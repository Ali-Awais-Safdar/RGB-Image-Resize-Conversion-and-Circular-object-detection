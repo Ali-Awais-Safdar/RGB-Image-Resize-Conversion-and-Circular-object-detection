{
 "cells": [
  {
   "cell_type": "markdown",
   "metadata": {},
   "source": [
    "TASK 4"
   ]
  },
  {
   "cell_type": "code",
   "execution_count": null,
   "metadata": {},
   "outputs": [],
   "source": [
    "import cv2"
   ]
  },
  {
   "cell_type": "code",
   "execution_count": 20,
   "metadata": {},
   "outputs": [],
   "source": [
    "def coin_counting_segmentation(rgb):\n",
    "    # load image\n",
    "    img = cv2.imread(rgb)\n",
    "\n",
    "    # blur and convert to grey scale\n",
    "    grey = cv2.cvtColor(img, cv2.COLOR_BGR2GRAY)\n",
    "\n",
    "    blur_img = cv2.bilateralFilter(grey,11,120,120)\n",
    "\n",
    "    # canny edge detector\n",
    "    outline = cv2.Canny(blur_img, 50, 120)\n",
    "\n",
    "    # show canny edge detector\n",
    "    cv2.imshow(\"The edges\", outline)\n",
    "    cv2.waitKey(0)\n",
    "\n",
    "    # find the contours\n",
    "    (cnts, _) = cv2.findContours(outline, cv2.RETR_EXTERNAL,\n",
    "                cv2.CHAIN_APPROX_SIMPLE)\n",
    "    \n",
    "    contour_list = []\n",
    "    for contour in cnts:\n",
    "        approx = cv2.approxPolyDP(contour,0.01*cv2.arcLength(contour,True),True)\n",
    "        area = cv2.contourArea(contour)\n",
    "        if ((len(approx) > 8) & (area > 30) ):\n",
    "            contour_list.append(contour)\n",
    "\n",
    "    # draw contours\n",
    "    cv2.drawContours(img, contour_list, -1, (255,0,0), 2)\n",
    "    cv2.imshow(\"Result\", img)\n",
    "    cv2.waitKey(0)\n",
    "\n",
    "    return \"I found %i coins\" % len(contour_list)"
   ]
  },
  {
   "cell_type": "code",
   "execution_count": 21,
   "metadata": {},
   "outputs": [
    {
     "name": "stdout",
     "output_type": "stream",
     "text": [
      "I found 8 coins\n"
     ]
    }
   ],
   "source": [
    "Total_Coins = coin_counting_segmentation('Test.png')\n",
    "print(Total_Coins)"
   ]
  }
 ],
 "metadata": {
  "kernelspec": {
   "display_name": "Python 3",
   "language": "python",
   "name": "python3"
  },
  "language_info": {
   "codemirror_mode": {
    "name": "ipython",
    "version": 3
   },
   "file_extension": ".py",
   "mimetype": "text/x-python",
   "name": "python",
   "nbconvert_exporter": "python",
   "pygments_lexer": "ipython3",
   "version": "3.11.5"
  },
  "orig_nbformat": 4
 },
 "nbformat": 4,
 "nbformat_minor": 2
}
